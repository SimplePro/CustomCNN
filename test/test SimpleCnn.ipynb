{
 "cells": [
  {
   "cell_type": "code",
   "execution_count": 1,
   "metadata": {},
   "outputs": [],
   "source": [
    "from CustomModel import SimpleCnn"
   ]
  },
  {
   "cell_type": "code",
   "execution_count": 2,
   "metadata": {},
   "outputs": [],
   "source": [
    "simple_cnn = SimpleCnn(generator=False, model_name=\"SimpleCnn\")"
   ]
  },
  {
   "cell_type": "code",
   "execution_count": 3,
   "metadata": {},
   "outputs": [],
   "source": [
    "from keras.datasets import mnist\n",
    "from keras.utils import to_categorical\n",
    "\n",
    "(x_train, y_train), (x_test, y_test) = mnist.load_data()\n",
    "\n",
    "x_train = x_train.reshape(x_train.shape[0], 28, 28, 1).astype(\"float32\") / 255.\n",
    "x_test = x_test.reshape(x_test.shape[0], 28, 28, 1).astype(\"float32\") / 255.\n",
    "\n",
    "batch_size = 128\n",
    "class_n = 10\n",
    "epochs = 3\n",
    "\n",
    "y_train = to_categorical(y_train, class_n)\n",
    "y_test = to_categorical(y_test, class_n)"
   ]
  },
  {
   "cell_type": "code",
   "execution_count": 4,
   "metadata": {},
   "outputs": [],
   "source": [
    "simple_cnn.set_dataset(train_set=(x_train, y_train), test_set=(x_test, y_test))"
   ]
  },
  {
   "cell_type": "code",
   "execution_count": 5,
   "metadata": {},
   "outputs": [],
   "source": [
    "simple_cnn.fit(class_n, input_shape=(28, 28, 1), epochs=3)"
   ]
  },
  {
   "cell_type": "code",
   "execution_count": 7,
   "metadata": {},
   "outputs": [
    {
     "name": "stdout",
     "output_type": "stream",
     "text": [
      "0.9912\n"
     ]
    }
   ],
   "source": [
    "from sklearn.metrics import accuracy_score\n",
    "import numpy as np\n",
    "\n",
    "pred = simple_cnn.predict(x_test)\n",
    "print(accuracy_score(np.argmax(y_test, axis=1), pred))"
   ]
  },
  {
   "cell_type": "code",
   "execution_count": 8,
   "metadata": {},
   "outputs": [
    {
     "data": {
      "text/plain": [
       "<matplotlib.image.AxesImage at 0x26409a3c8e0>"
      ]
     },
     "execution_count": 8,
     "metadata": {},
     "output_type": "execute_result"
    },
    {
     "data": {
      "image/png": "[encoded data removed]",
      "text/plain": [
       "<Figure size 432x288 with 1 Axes>"
      ]
     },
     "metadata": {
      "needs_background": "light"
     },
     "output_type": "display_data"
    }
   ],
   "source": [
    "import matplotlib.pyplot as plt\n",
    "\n",
    "plt.imshow(x_test[0])"
   ]
  },
  {
   "cell_type": "code",
   "execution_count": 9,
   "metadata": {},
   "outputs": [
    {
     "name": "stdout",
     "output_type": "stream",
     "text": [
      "[7]\n"
     ]
    }
   ],
   "source": [
    "pred = simple_cnn.predict(x_test[0])\n",
    "print(pred)"
   ]
  },
  {
   "cell_type": "code",
   "execution_count": 2,
   "metadata": {
    "scrolled": true
   },
   "outputs": [],
   "source": [
    "simple_cnn = SimpleCnn(generator=True, model_name=\"dog_cat_dl\")"
   ]
  },
  {
   "cell_type": "code",
   "execution_count": 3,
   "metadata": {},
   "outputs": [
    {
     "name": "stdout",
     "output_type": "stream",
     "text": [
      "Found 8004 images belonging to 2 classes.\n",
      "Found 2023 images belonging to 2 classes.\n"
     ]
    }
   ],
   "source": [
    "simple_cnn.set_dataset(train_directory=\"./dog_cat_dataset/training_set/\", test_directory=\"./dog_cat_dataset/test_set/\", dsize=(64, 64))"
   ]
  },
  {
   "cell_type": "code",
   "execution_count": 4,
   "metadata": {},
   "outputs": [
    {
     "name": "stdout",
     "output_type": "stream",
     "text": [
      "WARNING:tensorflow:From C:\\kimdonghwan\\python\\ImageClassifier\\CustomModel.py:299: Model.fit_generator (from tensorflow.python.keras.engine.training) is deprecated and will be removed in a future version.\n",
      "Instructions for updating:\n",
      "Please use Model.fit, which supports generators.\n",
      "Epoch 1/80\n",
      "30/30 [==============================] - 24s 788ms/step - loss: 0.7649 - accuracy: 0.4958 - val_loss: 0.6924 - val_accuracy: 0.5383\n",
      "Epoch 2/80\n",
      "30/30 [==============================] - 26s 861ms/step - loss: 0.6923 - accuracy: 0.5132 - val_loss: 0.6912 - val_accuracy: 0.5383\n",
      "Epoch 3/80\n",
      "30/30 [==============================] - 22s 747ms/step - loss: 0.6894 - accuracy: 0.5325 - val_loss: 0.6786 - val_accuracy: 0.5992\n",
      "Epoch 4/80\n",
      "30/30 [==============================] - 24s 785ms/step - loss: 0.6846 - accuracy: 0.5519 - val_loss: 0.6766 - val_accuracy: 0.5523\n",
      "Epoch 5/80\n",
      "30/30 [==============================] - 24s 785ms/step - loss: 0.6713 - accuracy: 0.5648 - val_loss: 0.6711 - val_accuracy: 0.5711\n",
      "Epoch 6/80\n",
      "30/30 [==============================] - 23s 779ms/step - loss: 0.6703 - accuracy: 0.5738 - val_loss: 0.6498 - val_accuracy: 0.6258\n",
      "Epoch 7/80\n",
      "30/30 [==============================] - 24s 791ms/step - loss: 0.6541 - accuracy: 0.6083 - val_loss: 0.6484 - val_accuracy: 0.6367\n",
      "Epoch 8/80\n",
      "30/30 [==============================] - 23s 753ms/step - loss: 0.6413 - accuracy: 0.6296 - val_loss: 0.6095 - val_accuracy: 0.6742\n",
      "Epoch 9/80\n",
      "30/30 [==============================] - 23s 773ms/step - loss: 0.6368 - accuracy: 0.6432 - val_loss: 0.6233 - val_accuracy: 0.6477\n",
      "Epoch 10/80\n",
      "30/30 [==============================] - 23s 765ms/step - loss: 0.6173 - accuracy: 0.6560 - val_loss: 0.6021 - val_accuracy: 0.6836\n",
      "Epoch 11/80\n",
      "30/30 [==============================] - 23s 774ms/step - loss: 0.6198 - accuracy: 0.6526 - val_loss: 0.6176 - val_accuracy: 0.6633\n",
      "Epoch 12/80\n",
      "30/30 [==============================] - 23s 773ms/step - loss: 0.6096 - accuracy: 0.6612 - val_loss: 0.6066 - val_accuracy: 0.6719\n",
      "Epoch 13/80\n",
      "30/30 [==============================] - 23s 775ms/step - loss: 0.6050 - accuracy: 0.6672 - val_loss: 0.6023 - val_accuracy: 0.6445\n",
      "Epoch 14/80\n",
      "30/30 [==============================] - 23s 764ms/step - loss: 0.6031 - accuracy: 0.6698 - val_loss: 0.5640 - val_accuracy: 0.7055\n",
      "Epoch 15/80\n",
      "30/30 [==============================] - 23s 752ms/step - loss: 0.5965 - accuracy: 0.6677 - val_loss: 0.5784 - val_accuracy: 0.6797\n",
      "Epoch 16/80\n",
      "30/30 [==============================] - 23s 759ms/step - loss: 0.5799 - accuracy: 0.6953 - val_loss: 0.5954 - val_accuracy: 0.6641\n",
      "Epoch 17/80\n",
      "30/30 [==============================] - 23s 767ms/step - loss: 0.5824 - accuracy: 0.6934 - val_loss: 0.5474 - val_accuracy: 0.7117\n",
      "Epoch 18/80\n",
      "30/30 [==============================] - 23s 770ms/step - loss: 0.5818 - accuracy: 0.6896 - val_loss: 0.5641 - val_accuracy: 0.7063\n",
      "Epoch 19/80\n",
      "30/30 [==============================] - 23s 782ms/step - loss: 0.5769 - accuracy: 0.6857 - val_loss: 0.5246 - val_accuracy: 0.7414\n",
      "Epoch 20/80\n",
      "30/30 [==============================] - 23s 767ms/step - loss: 0.5869 - accuracy: 0.6812 - val_loss: 0.5849 - val_accuracy: 0.6930\n",
      "Epoch 21/80\n",
      "30/30 [==============================] - 23s 755ms/step - loss: 0.5691 - accuracy: 0.7040 - val_loss: 0.5516 - val_accuracy: 0.7273\n",
      "Epoch 22/80\n",
      "30/30 [==============================] - 23s 755ms/step - loss: 0.5789 - accuracy: 0.6870 - val_loss: 0.5703 - val_accuracy: 0.6922\n",
      "Epoch 23/80\n",
      "30/30 [==============================] - 23s 763ms/step - loss: 0.5811 - accuracy: 0.6854 - val_loss: 0.5372 - val_accuracy: 0.7430\n",
      "Epoch 24/80\n",
      "30/30 [==============================] - 23s 760ms/step - loss: 0.5567 - accuracy: 0.7076 - val_loss: 0.5299 - val_accuracy: 0.7234\n",
      "Epoch 25/80\n",
      "30/30 [==============================] - 23s 772ms/step - loss: 0.5650 - accuracy: 0.7049 - val_loss: 0.5244 - val_accuracy: 0.7453\n",
      "Epoch 26/80\n",
      "30/30 [==============================] - 23s 760ms/step - loss: 0.5552 - accuracy: 0.7125 - val_loss: 0.5552 - val_accuracy: 0.7125\n",
      "Epoch 27/80\n",
      "30/30 [==============================] - 23s 754ms/step - loss: 0.5397 - accuracy: 0.7228 - val_loss: 0.5390 - val_accuracy: 0.7289\n",
      "Epoch 28/80\n",
      "30/30 [==============================] - 23s 766ms/step - loss: 0.5602 - accuracy: 0.7114 - val_loss: 0.5162 - val_accuracy: 0.7469\n",
      "Epoch 29/80\n",
      "30/30 [==============================] - 23s 767ms/step - loss: 0.5427 - accuracy: 0.7240 - val_loss: 0.5180 - val_accuracy: 0.7547\n",
      "Epoch 30/80\n",
      "30/30 [==============================] - 23s 760ms/step - loss: 0.5563 - accuracy: 0.7124 - val_loss: 0.5069 - val_accuracy: 0.7477\n",
      "Epoch 31/80\n",
      "30/30 [==============================] - 23s 767ms/step - loss: 0.5444 - accuracy: 0.7219 - val_loss: 0.5622 - val_accuracy: 0.7195\n",
      "Epoch 32/80\n",
      "30/30 [==============================] - 23s 752ms/step - loss: 0.5662 - accuracy: 0.7005 - val_loss: 0.5370 - val_accuracy: 0.7289\n",
      "Epoch 33/80\n",
      "30/30 [==============================] - 24s 788ms/step - loss: 0.5438 - accuracy: 0.7182 - val_loss: 0.5037 - val_accuracy: 0.7492\n",
      "Epoch 34/80\n",
      "30/30 [==============================] - 23s 759ms/step - loss: 0.5425 - accuracy: 0.7247 - val_loss: 0.4998 - val_accuracy: 0.7555\n",
      "Epoch 35/80\n",
      "30/30 [==============================] - 22s 748ms/step - loss: 0.5509 - accuracy: 0.7146 - val_loss: 0.5117 - val_accuracy: 0.7641\n",
      "Epoch 36/80\n",
      "30/30 [==============================] - 23s 775ms/step - loss: 0.5708 - accuracy: 0.7102 - val_loss: 0.5186 - val_accuracy: 0.7547\n",
      "Epoch 37/80\n",
      "30/30 [==============================] - 24s 793ms/step - loss: 0.5471 - accuracy: 0.7206 - val_loss: 0.5175 - val_accuracy: 0.7516\n",
      "Epoch 38/80\n",
      "30/30 [==============================] - 23s 773ms/step - loss: 0.5397 - accuracy: 0.7235 - val_loss: 0.5133 - val_accuracy: 0.7578\n",
      "Epoch 39/80\n",
      "30/30 [==============================] - 23s 772ms/step - loss: 0.5422 - accuracy: 0.7237 - val_loss: 0.5107 - val_accuracy: 0.7453\n",
      "Epoch 40/80\n",
      "30/30 [==============================] - 24s 794ms/step - loss: 0.5457 - accuracy: 0.7271 - val_loss: 0.5406 - val_accuracy: 0.7312\n",
      "Epoch 41/80\n",
      "30/30 [==============================] - 23s 781ms/step - loss: 0.5360 - accuracy: 0.7289 - val_loss: 0.5580 - val_accuracy: 0.7086\n",
      "Epoch 42/80\n",
      "30/30 [==============================] - 24s 793ms/step - loss: 0.5348 - accuracy: 0.7389 - val_loss: 0.5424 - val_accuracy: 0.7430\n",
      "Epoch 43/80\n",
      "30/30 [==============================] - 24s 804ms/step - loss: 0.5325 - accuracy: 0.7344 - val_loss: 0.5073 - val_accuracy: 0.7602\n",
      "Epoch 44/80\n",
      "30/30 [==============================] - 24s 796ms/step - loss: 0.5363 - accuracy: 0.7255 - val_loss: 0.5075 - val_accuracy: 0.7500\n",
      "Epoch 45/80\n",
      "30/30 [==============================] - 23s 752ms/step - loss: 0.5258 - accuracy: 0.7392 - val_loss: 0.5263 - val_accuracy: 0.7359\n",
      "Epoch 46/80\n",
      "30/30 [==============================] - 23s 755ms/step - loss: 0.5346 - accuracy: 0.7368 - val_loss: 0.5431 - val_accuracy: 0.7242\n",
      "Epoch 47/80\n",
      "30/30 [==============================] - 23s 773ms/step - loss: 0.5338 - accuracy: 0.7302 - val_loss: 0.5038 - val_accuracy: 0.7656\n",
      "Epoch 48/80\n",
      "30/30 [==============================] - 23s 778ms/step - loss: 0.5224 - accuracy: 0.7376 - val_loss: 0.4916 - val_accuracy: 0.7812\n",
      "Epoch 49/80\n",
      "30/30 [==============================] - 23s 760ms/step - loss: 0.5295 - accuracy: 0.7341 - val_loss: 0.4969 - val_accuracy: 0.7641\n",
      "Epoch 50/80\n",
      "30/30 [==============================] - 24s 785ms/step - loss: 0.5208 - accuracy: 0.7464 - val_loss: 0.4947 - val_accuracy: 0.7719\n",
      "Epoch 51/80\n",
      "30/30 [==============================] - 23s 774ms/step - loss: 0.5076 - accuracy: 0.7534 - val_loss: 0.5263 - val_accuracy: 0.7406\n",
      "Epoch 52/80\n",
      "30/30 [==============================] - 23s 781ms/step - loss: 0.5224 - accuracy: 0.7376 - val_loss: 0.4931 - val_accuracy: 0.7625\n",
      "Epoch 53/80\n",
      "30/30 [==============================] - 23s 757ms/step - loss: 0.5074 - accuracy: 0.7513 - val_loss: 0.4979 - val_accuracy: 0.7672\n",
      "Epoch 54/80\n",
      "30/30 [==============================] - 23s 780ms/step - loss: 0.5196 - accuracy: 0.7326 - val_loss: 0.4741 - val_accuracy: 0.7859\n",
      "Epoch 55/80\n",
      "30/30 [==============================] - 23s 763ms/step - loss: 0.4929 - accuracy: 0.7495 - val_loss: 0.4857 - val_accuracy: 0.7750\n",
      "Epoch 56/80\n"
     ]
    },
    {
     "name": "stdout",
     "output_type": "stream",
     "text": [
      "30/30 [==============================] - 23s 782ms/step - loss: 0.5102 - accuracy: 0.7513 - val_loss: 0.4978 - val_accuracy: 0.7625\n",
      "Epoch 57/80\n",
      "30/30 [==============================] - 23s 766ms/step - loss: 0.5099 - accuracy: 0.7413 - val_loss: 0.4645 - val_accuracy: 0.7805\n",
      "Epoch 58/80\n",
      "30/30 [==============================] - 23s 756ms/step - loss: 0.5040 - accuracy: 0.7503 - val_loss: 0.4796 - val_accuracy: 0.7773\n",
      "Epoch 59/80\n",
      "30/30 [==============================] - 23s 756ms/step - loss: 0.5259 - accuracy: 0.7259 - val_loss: 0.4955 - val_accuracy: 0.7578\n",
      "Epoch 60/80\n",
      "30/30 [==============================] - 23s 776ms/step - loss: 0.5083 - accuracy: 0.7513 - val_loss: 0.4865 - val_accuracy: 0.7680\n",
      "Epoch 61/80\n",
      "30/30 [==============================] - 23s 754ms/step - loss: 0.5082 - accuracy: 0.7529 - val_loss: 0.4666 - val_accuracy: 0.7883\n",
      "Epoch 62/80\n",
      "30/30 [==============================] - 23s 752ms/step - loss: 0.4994 - accuracy: 0.7582 - val_loss: 0.4501 - val_accuracy: 0.7891\n",
      "Epoch 63/80\n",
      "30/30 [==============================] - 23s 771ms/step - loss: 0.5091 - accuracy: 0.7518 - val_loss: 0.4562 - val_accuracy: 0.7797\n",
      "Epoch 64/80\n",
      "30/30 [==============================] - 24s 800ms/step - loss: 0.5031 - accuracy: 0.7526 - val_loss: 0.4703 - val_accuracy: 0.7859\n",
      "Epoch 65/80\n",
      "30/30 [==============================] - 24s 790ms/step - loss: 0.5113 - accuracy: 0.7417 - val_loss: 0.4574 - val_accuracy: 0.7789\n",
      "Epoch 66/80\n",
      "30/30 [==============================] - 24s 789ms/step - loss: 0.5052 - accuracy: 0.7500 - val_loss: 0.4810 - val_accuracy: 0.7742\n",
      "Epoch 67/80\n",
      "30/30 [==============================] - 24s 783ms/step - loss: 0.4950 - accuracy: 0.7628 - val_loss: 0.4749 - val_accuracy: 0.7828\n",
      "Epoch 68/80\n",
      "30/30 [==============================] - 24s 795ms/step - loss: 0.4901 - accuracy: 0.7615 - val_loss: 0.5059 - val_accuracy: 0.7586\n",
      "Epoch 69/80\n",
      "30/30 [==============================] - 24s 807ms/step - loss: 0.4957 - accuracy: 0.7612 - val_loss: 0.5032 - val_accuracy: 0.7563\n",
      "Epoch 70/80\n",
      "30/30 [==============================] - 24s 806ms/step - loss: 0.5084 - accuracy: 0.7526 - val_loss: 0.5200 - val_accuracy: 0.7523\n",
      "Epoch 71/80\n",
      "30/30 [==============================] - 24s 796ms/step - loss: 0.4982 - accuracy: 0.7604 - val_loss: 0.4645 - val_accuracy: 0.7789\n",
      "Epoch 72/80\n",
      "30/30 [==============================] - 23s 782ms/step - loss: 0.5068 - accuracy: 0.7513 - val_loss: 0.4639 - val_accuracy: 0.7914\n",
      "Epoch 73/80\n",
      "30/30 [==============================] - 24s 797ms/step - loss: 0.4915 - accuracy: 0.7609 - val_loss: 0.4611 - val_accuracy: 0.7805\n",
      "Epoch 74/80\n",
      "30/30 [==============================] - 23s 760ms/step - loss: 0.4968 - accuracy: 0.7532 - val_loss: 0.4579 - val_accuracy: 0.7883\n",
      "Epoch 75/80\n",
      "30/30 [==============================] - 23s 754ms/step - loss: 0.4895 - accuracy: 0.7714 - val_loss: 0.4598 - val_accuracy: 0.7953\n",
      "Epoch 76/80\n",
      "30/30 [==============================] - 23s 756ms/step - loss: 0.4911 - accuracy: 0.7595 - val_loss: 0.4857 - val_accuracy: 0.7602\n",
      "Epoch 77/80\n",
      "30/30 [==============================] - 24s 791ms/step - loss: 0.5020 - accuracy: 0.7534 - val_loss: 0.4672 - val_accuracy: 0.7844\n",
      "Epoch 78/80\n",
      "30/30 [==============================] - 23s 778ms/step - loss: 0.4844 - accuracy: 0.7672 - val_loss: 0.4458 - val_accuracy: 0.7984\n",
      "Epoch 79/80\n",
      "30/30 [==============================] - 23s 770ms/step - loss: 0.4942 - accuracy: 0.7628 - val_loss: 0.4696 - val_accuracy: 0.7906\n",
      "Epoch 80/80\n",
      "30/30 [==============================] - 23s 757ms/step - loss: 0.4844 - accuracy: 0.7722 - val_loss: 0.4558 - val_accuracy: 0.7969\n"
     ]
    }
   ],
   "source": [
    "simple_cnn.fit(class_n=2, input_shape=(64, 64, 3), epochs=80)"
   ]
  },
  {
   "cell_type": "code",
   "execution_count": 6,
   "metadata": {},
   "outputs": [
    {
     "name": "stdout",
     "output_type": "stream",
     "text": [
      "cats\n"
     ]
    },
    {
     "data": {
      "image/png": "[encoded data removed]",
      "text/plain": [
       "<Figure size 432x288 with 1 Axes>"
      ]
     },
     "metadata": {
      "needs_background": "light"
     },
     "output_type": "display_data"
    }
   ],
   "source": [
    "from keras.preprocessing import image\n",
    "import matplotlib.pyplot as plt\n",
    "\n",
    "pred = simple_cnn.predict(path=\"./dog_cat_dataset/test_set/cats/cat0.jpg\")\n",
    "plt.imshow(image.load_img(\"./dog_cat_dataset/test_set/cats/cat0.jpg\"))\n",
    "print(pred)"
   ]
  },
  {
   "cell_type": "code",
   "execution_count": 7,
   "metadata": {},
   "outputs": [
    {
     "name": "stdout",
     "output_type": "stream",
     "text": [
      "dogs\n"
     ]
    },
    {
     "data": {
      "image/png": "[encoded data removed]",
      "text/plain": [
       "<Figure size 432x288 with 1 Axes>"
      ]
     },
     "metadata": {
      "needs_background": "light"
     },
     "output_type": "display_data"
    }
   ],
   "source": [
    "img = image.load_img(\"./dog_cat_dataset/test_set/dogs/dog0.jpg\")\n",
    "pred = simple_cnn.predict(x=img)\n",
    "plt.imshow(img)\n",
    "print(pred)"
   ]
  }
 ],
 "metadata": {
  "kernelspec": {
   "display_name": "Python 3",
   "language": "python",
   "name": "python3"
  },
  "language_info": {
   "codemirror_mode": {
    "name": "ipython",
    "version": 3
   },
   "file_extension": ".py",
   "mimetype": "text/x-python",
   "name": "python",
   "nbconvert_exporter": "python",
   "pygments_lexer": "ipython3",
   "version": "3.8.1"
  }
 },
 "nbformat": 4,
 "nbformat_minor": 4
}
